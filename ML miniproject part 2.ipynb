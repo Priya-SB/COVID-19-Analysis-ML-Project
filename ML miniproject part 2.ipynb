{
 "cells": [
  {
   "cell_type": "markdown",
   "metadata": {},
   "source": [
    "# Prediction and Analysis of Coronavirus (COVID19) | Priya Bannur PB 23"
   ]
  },
  {
   "cell_type": "markdown",
   "metadata": {},
   "source": [
    "### Tasks covered:\n",
    "1. Linear regression\n",
    "2. Polynomial regression"
   ]
  },
  {
   "cell_type": "markdown",
   "metadata": {},
   "source": [
    "## Importing essential libraries"
   ]
  },
  {
   "cell_type": "code",
   "execution_count": 1,
   "metadata": {},
   "outputs": [],
   "source": [
    "# Mathemetical libraries\n",
    "import math\n",
    "\n",
    "# Data storage, manipulation, analysis\n",
    "import numpy as np\n",
    "import pandas as pd\n",
    "from sklearn.linear_model import LinearRegression\n",
    "from sklearn.preprocessing import PolynomialFeatures\n",
    "\n",
    "# Data visualization\n",
    "import matplotlib.pyplot as plt"
   ]
  },
  {
   "cell_type": "code",
   "execution_count": 2,
   "metadata": {},
   "outputs": [
    {
     "data": {
      "text/html": [
       "<div>\n",
       "<style scoped>\n",
       "    .dataframe tbody tr th:only-of-type {\n",
       "        vertical-align: middle;\n",
       "    }\n",
       "\n",
       "    .dataframe tbody tr th {\n",
       "        vertical-align: top;\n",
       "    }\n",
       "\n",
       "    .dataframe thead th {\n",
       "        text-align: right;\n",
       "    }\n",
       "</style>\n",
       "<table border=\"1\" class=\"dataframe\">\n",
       "  <thead>\n",
       "    <tr style=\"text-align: right;\">\n",
       "      <th></th>\n",
       "      <th>Province/State</th>\n",
       "      <th>Country/Region</th>\n",
       "      <th>Lat</th>\n",
       "      <th>Long</th>\n",
       "      <th>Date</th>\n",
       "      <th>Confirmed</th>\n",
       "      <th>Deaths</th>\n",
       "      <th>Recovered</th>\n",
       "    </tr>\n",
       "  </thead>\n",
       "  <tbody>\n",
       "    <tr>\n",
       "      <th>5983</th>\n",
       "      <td>Channel Islands</td>\n",
       "      <td>United Kingdom</td>\n",
       "      <td>49.3723</td>\n",
       "      <td>-2.3644</td>\n",
       "      <td>2020-02-13</td>\n",
       "      <td>0</td>\n",
       "      <td>0</td>\n",
       "      <td>0</td>\n",
       "    </tr>\n",
       "    <tr>\n",
       "      <th>14112</th>\n",
       "      <td>NaN</td>\n",
       "      <td>Uzbekistan</td>\n",
       "      <td>41.3775</td>\n",
       "      <td>64.5853</td>\n",
       "      <td>2020-03-15</td>\n",
       "      <td>1</td>\n",
       "      <td>0</td>\n",
       "      <td>0</td>\n",
       "    </tr>\n",
       "    <tr>\n",
       "      <th>11439</th>\n",
       "      <td>NaN</td>\n",
       "      <td>Nigeria</td>\n",
       "      <td>9.0820</td>\n",
       "      <td>8.6753</td>\n",
       "      <td>2020-03-05</td>\n",
       "      <td>1</td>\n",
       "      <td>0</td>\n",
       "      <td>0</td>\n",
       "    </tr>\n",
       "    <tr>\n",
       "      <th>15731</th>\n",
       "      <td>Queensland</td>\n",
       "      <td>Australia</td>\n",
       "      <td>-28.0167</td>\n",
       "      <td>153.4000</td>\n",
       "      <td>2020-03-22</td>\n",
       "      <td>259</td>\n",
       "      <td>0</td>\n",
       "      <td>8</td>\n",
       "    </tr>\n",
       "    <tr>\n",
       "      <th>3133</th>\n",
       "      <td>NaN</td>\n",
       "      <td>MS Zaandam</td>\n",
       "      <td>0.0000</td>\n",
       "      <td>0.0000</td>\n",
       "      <td>2020-02-02</td>\n",
       "      <td>0</td>\n",
       "      <td>0</td>\n",
       "      <td>0</td>\n",
       "    </tr>\n",
       "  </tbody>\n",
       "</table>\n",
       "</div>"
      ],
      "text/plain": [
       "        Province/State  Country/Region      Lat      Long       Date  \\\n",
       "5983   Channel Islands  United Kingdom  49.3723   -2.3644 2020-02-13   \n",
       "14112              NaN      Uzbekistan  41.3775   64.5853 2020-03-15   \n",
       "11439              NaN         Nigeria   9.0820    8.6753 2020-03-05   \n",
       "15731       Queensland       Australia -28.0167  153.4000 2020-03-22   \n",
       "3133               NaN      MS Zaandam   0.0000    0.0000 2020-02-02   \n",
       "\n",
       "       Confirmed  Deaths  Recovered  \n",
       "5983           0       0          0  \n",
       "14112          1       0          0  \n",
       "11439          1       0          0  \n",
       "15731        259       0          8  \n",
       "3133           0       0          0  "
      ]
     },
     "execution_count": 2,
     "metadata": {},
     "output_type": "execute_result"
    }
   ],
   "source": [
    "# storing covid-19 dataset into dataframe\n",
    "dataset = pd.read_csv('covid19-dataset.csv', parse_dates=['Date'])\n",
    "\n",
    "# displaying 5 random data samples\n",
    "dataset.sample(5)"
   ]
  },
  {
   "cell_type": "code",
   "execution_count": 3,
   "metadata": {},
   "outputs": [
    {
     "data": {
      "text/html": [
       "<style  type=\"text/css\" >\n",
       "</style>  \n",
       "<table id=\"T_90912f08_8711_11ea_b9dc_f894c2d83a0f\" > \n",
       "<thead>    <tr> \n",
       "        <th class=\"col_heading level0 col0\" >Province/State</th> \n",
       "        <th class=\"col_heading level0 col1\" >Country/Region</th> \n",
       "        <th class=\"col_heading level0 col2\" >Lat</th> \n",
       "        <th class=\"col_heading level0 col3\" >Long</th> \n",
       "        <th class=\"col_heading level0 col4\" >Date</th> \n",
       "        <th class=\"col_heading level0 col5\" >Confirmed</th> \n",
       "        <th class=\"col_heading level0 col6\" >Deaths</th> \n",
       "        <th class=\"col_heading level0 col7\" >Recovered</th> \n",
       "    </tr></thead> \n",
       "<tbody>    <tr> \n",
       "        <td id=\"T_90912f08_8711_11ea_b9dc_f894c2d83a0frow0_col0\" class=\"data row0 col0\" >nan</td> \n",
       "        <td id=\"T_90912f08_8711_11ea_b9dc_f894c2d83a0frow0_col1\" class=\"data row0 col1\" >Afghanistan</td> \n",
       "        <td id=\"T_90912f08_8711_11ea_b9dc_f894c2d83a0frow0_col2\" class=\"data row0 col2\" >33</td> \n",
       "        <td id=\"T_90912f08_8711_11ea_b9dc_f894c2d83a0frow0_col3\" class=\"data row0 col3\" >65</td> \n",
       "        <td id=\"T_90912f08_8711_11ea_b9dc_f894c2d83a0frow0_col4\" class=\"data row0 col4\" >2020-01-22 00:00:00</td> \n",
       "        <td id=\"T_90912f08_8711_11ea_b9dc_f894c2d83a0frow0_col5\" class=\"data row0 col5\" >0</td> \n",
       "        <td id=\"T_90912f08_8711_11ea_b9dc_f894c2d83a0frow0_col6\" class=\"data row0 col6\" >0</td> \n",
       "        <td id=\"T_90912f08_8711_11ea_b9dc_f894c2d83a0frow0_col7\" class=\"data row0 col7\" >0</td> \n",
       "    </tr>    <tr> \n",
       "        <td id=\"T_90912f08_8711_11ea_b9dc_f894c2d83a0frow1_col0\" class=\"data row1 col0\" >Aruba</td> \n",
       "        <td id=\"T_90912f08_8711_11ea_b9dc_f894c2d83a0frow1_col1\" class=\"data row1 col1\" >Netherlands</td> \n",
       "        <td id=\"T_90912f08_8711_11ea_b9dc_f894c2d83a0frow1_col2\" class=\"data row1 col2\" >12.5186</td> \n",
       "        <td id=\"T_90912f08_8711_11ea_b9dc_f894c2d83a0frow1_col3\" class=\"data row1 col3\" >-70.0358</td> \n",
       "        <td id=\"T_90912f08_8711_11ea_b9dc_f894c2d83a0frow1_col4\" class=\"data row1 col4\" >2020-01-22 00:00:00</td> \n",
       "        <td id=\"T_90912f08_8711_11ea_b9dc_f894c2d83a0frow1_col5\" class=\"data row1 col5\" >0</td> \n",
       "        <td id=\"T_90912f08_8711_11ea_b9dc_f894c2d83a0frow1_col6\" class=\"data row1 col6\" >0</td> \n",
       "        <td id=\"T_90912f08_8711_11ea_b9dc_f894c2d83a0frow1_col7\" class=\"data row1 col7\" >0</td> \n",
       "    </tr>    <tr> \n",
       "        <td id=\"T_90912f08_8711_11ea_b9dc_f894c2d83a0frow2_col0\" class=\"data row2 col0\" >Curacao</td> \n",
       "        <td id=\"T_90912f08_8711_11ea_b9dc_f894c2d83a0frow2_col1\" class=\"data row2 col1\" >Netherlands</td> \n",
       "        <td id=\"T_90912f08_8711_11ea_b9dc_f894c2d83a0frow2_col2\" class=\"data row2 col2\" >12.1696</td> \n",
       "        <td id=\"T_90912f08_8711_11ea_b9dc_f894c2d83a0frow2_col3\" class=\"data row2 col3\" >-68.99</td> \n",
       "        <td id=\"T_90912f08_8711_11ea_b9dc_f894c2d83a0frow2_col4\" class=\"data row2 col4\" >2020-01-22 00:00:00</td> \n",
       "        <td id=\"T_90912f08_8711_11ea_b9dc_f894c2d83a0frow2_col5\" class=\"data row2 col5\" >0</td> \n",
       "        <td id=\"T_90912f08_8711_11ea_b9dc_f894c2d83a0frow2_col6\" class=\"data row2 col6\" >0</td> \n",
       "        <td id=\"T_90912f08_8711_11ea_b9dc_f894c2d83a0frow2_col7\" class=\"data row2 col7\" >0</td> \n",
       "    </tr>    <tr> \n",
       "        <td id=\"T_90912f08_8711_11ea_b9dc_f894c2d83a0frow3_col0\" class=\"data row3 col0\" >Sint Maarten</td> \n",
       "        <td id=\"T_90912f08_8711_11ea_b9dc_f894c2d83a0frow3_col1\" class=\"data row3 col1\" >Netherlands</td> \n",
       "        <td id=\"T_90912f08_8711_11ea_b9dc_f894c2d83a0frow3_col2\" class=\"data row3 col2\" >18.0425</td> \n",
       "        <td id=\"T_90912f08_8711_11ea_b9dc_f894c2d83a0frow3_col3\" class=\"data row3 col3\" >-63.0548</td> \n",
       "        <td id=\"T_90912f08_8711_11ea_b9dc_f894c2d83a0frow3_col4\" class=\"data row3 col4\" >2020-01-22 00:00:00</td> \n",
       "        <td id=\"T_90912f08_8711_11ea_b9dc_f894c2d83a0frow3_col5\" class=\"data row3 col5\" >0</td> \n",
       "        <td id=\"T_90912f08_8711_11ea_b9dc_f894c2d83a0frow3_col6\" class=\"data row3 col6\" >0</td> \n",
       "        <td id=\"T_90912f08_8711_11ea_b9dc_f894c2d83a0frow3_col7\" class=\"data row3 col7\" >0</td> \n",
       "    </tr>    <tr> \n",
       "        <td id=\"T_90912f08_8711_11ea_b9dc_f894c2d83a0frow4_col0\" class=\"data row4 col0\" >nan</td> \n",
       "        <td id=\"T_90912f08_8711_11ea_b9dc_f894c2d83a0frow4_col1\" class=\"data row4 col1\" >Netherlands</td> \n",
       "        <td id=\"T_90912f08_8711_11ea_b9dc_f894c2d83a0frow4_col2\" class=\"data row4 col2\" >52.1326</td> \n",
       "        <td id=\"T_90912f08_8711_11ea_b9dc_f894c2d83a0frow4_col3\" class=\"data row4 col3\" >5.2913</td> \n",
       "        <td id=\"T_90912f08_8711_11ea_b9dc_f894c2d83a0frow4_col4\" class=\"data row4 col4\" >2020-01-22 00:00:00</td> \n",
       "        <td id=\"T_90912f08_8711_11ea_b9dc_f894c2d83a0frow4_col5\" class=\"data row4 col5\" >0</td> \n",
       "        <td id=\"T_90912f08_8711_11ea_b9dc_f894c2d83a0frow4_col6\" class=\"data row4 col6\" >0</td> \n",
       "        <td id=\"T_90912f08_8711_11ea_b9dc_f894c2d83a0frow4_col7\" class=\"data row4 col7\" >0</td> \n",
       "    </tr></tbody> \n",
       "</table> "
      ],
      "text/plain": [
       "<pandas.io.formats.style.Styler at 0x212d371f0b8>"
      ]
     },
     "execution_count": 3,
     "metadata": {},
     "output_type": "execute_result"
    }
   ],
   "source": [
    "# sorting data as per date\n",
    "\n",
    "datesorted = dataset.sort_values('Date')\n",
    "datesorted.head().style.hide_index()"
   ]
  },
  {
   "cell_type": "markdown",
   "metadata": {},
   "source": [
    "## Linear Regression"
   ]
  },
  {
   "cell_type": "code",
   "execution_count": 4,
   "metadata": {},
   "outputs": [],
   "source": [
    "X=datesorted[[\"Confirmed\"]]\n",
    "Y=datesorted[[\"Deaths\"]]"
   ]
  },
  {
   "cell_type": "code",
   "execution_count": 5,
   "metadata": {},
   "outputs": [],
   "source": [
    "# Reshaping data into an array for Linear Regression\n",
    "\n",
    "x=np.reshape(X, (-1, 1))\n",
    "y=np.reshape(Y, (-1, 1))"
   ]
  },
  {
   "cell_type": "code",
   "execution_count": 6,
   "metadata": {},
   "outputs": [
    {
     "data": {
      "text/plain": [
       "LinearRegression(copy_X=True, fit_intercept=True, n_jobs=None,\n",
       "         normalize=False)"
      ]
     },
     "execution_count": 6,
     "metadata": {},
     "output_type": "execute_result"
    }
   ],
   "source": [
    "# Modeling Linear Regression \n",
    "\n",
    "regressor = LinearRegression()\n",
    "regressor.fit(X,Y)"
   ]
  },
  {
   "cell_type": "code",
   "execution_count": 7,
   "metadata": {},
   "outputs": [
    {
     "data": {
      "image/png": "[encoded data removed]",
      "text/plain": [
       "<Figure size 432x288 with 1 Axes>"
      ]
     },
     "metadata": {},
     "output_type": "display_data"
    }
   ],
   "source": [
    "# Plotting the Line of regression\n",
    "\n",
    "plt.xlabel(\"Confirmed cases\")\n",
    "plt.ylabel(\"Deaths amongst confirmed cases\")\n",
    "plt.plot(x,y,'.')\n",
    "plt.plot(x,regressor.predict(x))\n",
    "plt.show()"
   ]
  },
  {
   "cell_type": "code",
   "execution_count": 8,
   "metadata": {},
   "outputs": [
    {
     "data": {
      "text/plain": [
       "array([[5.80401195]])"
      ]
     },
     "execution_count": 8,
     "metadata": {},
     "output_type": "execute_result"
    }
   ],
   "source": [
    "y_pred=regressor.predict([[100]]) \n",
    "y_pred"
   ]
  },
  {
   "cell_type": "code",
   "execution_count": 9,
   "metadata": {},
   "outputs": [
    {
     "name": "stdout",
     "output_type": "stream",
     "text": [
      "[[0.05037201]]\n",
      "[0.76681142]\n"
     ]
    }
   ],
   "source": [
    "# coeffients of regression\n",
    "\n",
    "print(regressor.coef_)        #b0 \n",
    "print(regressor.intercept_)   #b1"
   ]
  },
  {
   "cell_type": "code",
   "execution_count": 10,
   "metadata": {},
   "outputs": [
    {
     "data": {
      "text/plain": [
       "70.49496770267965"
      ]
     },
     "execution_count": 10,
     "metadata": {},
     "output_type": "execute_result"
    }
   ],
   "source": [
    "# Accuracy of model\n",
    "\n",
    "regressor.score(x,y)*100   "
   ]
  },
  {
   "cell_type": "code",
   "execution_count": 11,
   "metadata": {},
   "outputs": [
    {
     "data": {
      "text/plain": [
       "array([[5.80401195]])"
      ]
     },
     "execution_count": 11,
     "metadata": {},
     "output_type": "execute_result"
    }
   ],
   "source": [
    "# Prediction: If a region has 100 confirmed cases, how many would probably die?\n",
    "\n",
    "y_pred=regressor.predict([[100]]) \n",
    "y_pred"
   ]
  },
  {
   "cell_type": "code",
   "execution_count": 12,
   "metadata": {},
   "outputs": [
    {
     "data": {
      "text/plain": [
       "array([[504.48686403]])"
      ]
     },
     "execution_count": 12,
     "metadata": {},
     "output_type": "execute_result"
    }
   ],
   "source": [
    "# Prediction: If a region has 10000 confirmed cases, how many would probably die?\n",
    "\n",
    "y_pred=regressor.predict([[10000]]) \n",
    "y_pred"
   ]
  },
  {
   "cell_type": "markdown",
   "metadata": {},
   "source": [
    "## Polynomial Regression"
   ]
  },
  {
   "cell_type": "code",
   "execution_count": 13,
   "metadata": {},
   "outputs": [],
   "source": [
    "X=datesorted[\"Confirmed\"]\n",
    "Y=datesorted[\"Deaths\"]"
   ]
  },
  {
   "cell_type": "code",
   "execution_count": 14,
   "metadata": {},
   "outputs": [],
   "source": [
    "# Modeling a Polynomial Regression\n",
    "\n",
    "mymodel = np.poly1d(np.polyfit(X, Y, 8))\n",
    "myline = np.linspace(0,500000)"
   ]
  },
  {
   "cell_type": "code",
   "execution_count": 15,
   "metadata": {},
   "outputs": [
    {
     "data": {
      "image/png": "[encoded data removed]",
      "text/plain": [
       "<Figure size 432x288 with 1 Axes>"
      ]
     },
     "metadata": {},
     "output_type": "display_data"
    }
   ],
   "source": [
    "# Plotting the Curve of regression\n",
    "\n",
    "plt.xlabel(\"Confirmed cases\")\n",
    "plt.ylabel(\"Deaths amongst confirmed cases\")\n",
    "plt.plot(x,y,'.')\n",
    "plt.plot(myline, mymodel(myline))\n",
    "plt.show()"
   ]
  },
  {
   "cell_type": "code",
   "execution_count": 16,
   "metadata": {},
   "outputs": [
    {
     "data": {
      "text/plain": [
       "516.6973598069075"
      ]
     },
     "execution_count": 16,
     "metadata": {},
     "output_type": "execute_result"
    }
   ],
   "source": [
    "# Prediction: If a region has 10000 confirmed cases, how many would probably die?\n",
    "\n",
    "mymodel(10000)"
   ]
  }
 ],
 "metadata": {
  "kernelspec": {
   "display_name": "Python 3",
   "language": "python",
   "name": "python3"
  },
  "language_info": {
   "codemirror_mode": {
    "name": "ipython",
    "version": 3
   },
   "file_extension": ".py",
   "mimetype": "text/x-python",
   "name": "python",
   "nbconvert_exporter": "python",
   "pygments_lexer": "ipython3",
   "version": "3.6.5"
  }
 },
 "nbformat": 4,
 "nbformat_minor": 2
}
