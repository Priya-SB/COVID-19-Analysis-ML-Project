{
 "cells": [
  {
   "cell_type": "markdown",
   "metadata": {},
   "source": [
    "# Prediction and Analysis of Coronavirus (COVID19) | Priya Bannur PB 23"
   ]
  },
  {
   "cell_type": "markdown",
   "metadata": {},
   "source": [
    "### Tasks covered:\n",
    "1. Handling missing data\n",
    "2. Label Encoding\n",
    "3. K-Means Clustering"
   ]
  },
  {
   "cell_type": "markdown",
   "metadata": {},
   "source": [
    "## Importing Libraries"
   ]
  },
  {
   "cell_type": "code",
   "execution_count": 1,
   "metadata": {},
   "outputs": [],
   "source": [
    "import pandas as pd\n",
    "import numpy as np\n",
    "import math\n",
    "import random\n",
    "from sklearn import preprocessing\n",
    "from sklearn.cluster import KMeans\n",
    "import matplotlib.pyplot as plt\n",
    "from kneed import KneeLocator\n",
    "from matplotlib import cm\n",
    "from mpl_toolkits.mplot3d import Axes3D\n",
    "from sklearn.preprocessing import LabelEncoder"
   ]
  },
  {
   "cell_type": "markdown",
   "metadata": {},
   "source": [
    "## Loading the dataset"
   ]
  },
  {
   "cell_type": "code",
   "execution_count": 2,
   "metadata": {},
   "outputs": [],
   "source": [
    "def load_data():\n",
    "    df = pd.read_csv('SK_patient.csv')\n",
    "    df['released_date'] = pd.to_datetime(df['released_date'])\n",
    "    df['confirmed_date'] = pd.to_datetime(df['confirmed_date'])\n",
    "    df['month'] = df['confirmed_date'].dt.month\n",
    "    df['day'] = df['confirmed_date'].dt.day\n",
    "    return df"
   ]
  },
  {
   "cell_type": "code",
   "execution_count": 3,
   "metadata": {},
   "outputs": [
    {
     "data": {
      "text/plain": [
       "patient_id               0\n",
       "global_num            1089\n",
       "sex                     66\n",
       "birth_year             437\n",
       "age                     74\n",
       "country                  0\n",
       "province                 0\n",
       "city                    79\n",
       "disease               3308\n",
       "infection_case         767\n",
       "infection_order       3295\n",
       "infected_by           2520\n",
       "contact_number        2712\n",
       "symptom_onset_date    2855\n",
       "confirmed_date           3\n",
       "released_date         2108\n",
       "deceased_date         3266\n",
       "state                    0\n",
       "month                    3\n",
       "day                      3\n",
       "dtype: int64"
      ]
     },
     "execution_count": 3,
     "metadata": {},
     "output_type": "execute_result"
    }
   ],
   "source": [
    "df_south_korea = load_data()\n",
    "df_south_korea.isnull().sum()"
   ]
  },
  {
   "cell_type": "code",
   "execution_count": 4,
   "metadata": {},
   "outputs": [
    {
     "data": {
      "text/html": [
       "<div>\n",
       "<style scoped>\n",
       "    .dataframe tbody tr th:only-of-type {\n",
       "        vertical-align: middle;\n",
       "    }\n",
       "\n",
       "    .dataframe tbody tr th {\n",
       "        vertical-align: top;\n",
       "    }\n",
       "\n",
       "    .dataframe thead th {\n",
       "        text-align: right;\n",
       "    }\n",
       "</style>\n",
       "<table border=\"1\" class=\"dataframe\">\n",
       "  <thead>\n",
       "    <tr style=\"text-align: right;\">\n",
       "      <th></th>\n",
       "      <th>patient_id</th>\n",
       "      <th>global_num</th>\n",
       "      <th>sex</th>\n",
       "      <th>birth_year</th>\n",
       "      <th>age</th>\n",
       "      <th>country</th>\n",
       "      <th>province</th>\n",
       "      <th>city</th>\n",
       "      <th>disease</th>\n",
       "      <th>infection_case</th>\n",
       "      <th>infection_order</th>\n",
       "      <th>infected_by</th>\n",
       "      <th>contact_number</th>\n",
       "      <th>symptom_onset_date</th>\n",
       "      <th>confirmed_date</th>\n",
       "      <th>released_date</th>\n",
       "      <th>deceased_date</th>\n",
       "      <th>state</th>\n",
       "      <th>month</th>\n",
       "      <th>day</th>\n",
       "    </tr>\n",
       "  </thead>\n",
       "  <tbody>\n",
       "    <tr>\n",
       "      <th>0</th>\n",
       "      <td>1000000001</td>\n",
       "      <td>2.0</td>\n",
       "      <td>male</td>\n",
       "      <td>1964.0</td>\n",
       "      <td>50s</td>\n",
       "      <td>Korea</td>\n",
       "      <td>Seoul</td>\n",
       "      <td>Gangseo-gu</td>\n",
       "      <td>NaN</td>\n",
       "      <td>overseas inflow</td>\n",
       "      <td>1.0</td>\n",
       "      <td>NaN</td>\n",
       "      <td>75.0</td>\n",
       "      <td>2020-01-22</td>\n",
       "      <td>2020-01-23</td>\n",
       "      <td>2020-02-05</td>\n",
       "      <td>NaN</td>\n",
       "      <td>released</td>\n",
       "      <td>1.0</td>\n",
       "      <td>23.0</td>\n",
       "    </tr>\n",
       "    <tr>\n",
       "      <th>1</th>\n",
       "      <td>1000000002</td>\n",
       "      <td>5.0</td>\n",
       "      <td>male</td>\n",
       "      <td>1987.0</td>\n",
       "      <td>30s</td>\n",
       "      <td>Korea</td>\n",
       "      <td>Seoul</td>\n",
       "      <td>Jungnang-gu</td>\n",
       "      <td>NaN</td>\n",
       "      <td>overseas inflow</td>\n",
       "      <td>1.0</td>\n",
       "      <td>NaN</td>\n",
       "      <td>31.0</td>\n",
       "      <td>NaN</td>\n",
       "      <td>2020-01-30</td>\n",
       "      <td>2020-03-02</td>\n",
       "      <td>NaN</td>\n",
       "      <td>released</td>\n",
       "      <td>1.0</td>\n",
       "      <td>30.0</td>\n",
       "    </tr>\n",
       "    <tr>\n",
       "      <th>2</th>\n",
       "      <td>1000000003</td>\n",
       "      <td>6.0</td>\n",
       "      <td>male</td>\n",
       "      <td>1964.0</td>\n",
       "      <td>50s</td>\n",
       "      <td>Korea</td>\n",
       "      <td>Seoul</td>\n",
       "      <td>Jongno-gu</td>\n",
       "      <td>NaN</td>\n",
       "      <td>contact with patient</td>\n",
       "      <td>2.0</td>\n",
       "      <td>2.002000e+09</td>\n",
       "      <td>17.0</td>\n",
       "      <td>NaN</td>\n",
       "      <td>2020-01-30</td>\n",
       "      <td>2020-02-19</td>\n",
       "      <td>NaN</td>\n",
       "      <td>released</td>\n",
       "      <td>1.0</td>\n",
       "      <td>30.0</td>\n",
       "    </tr>\n",
       "    <tr>\n",
       "      <th>3</th>\n",
       "      <td>1000000004</td>\n",
       "      <td>7.0</td>\n",
       "      <td>male</td>\n",
       "      <td>1991.0</td>\n",
       "      <td>20s</td>\n",
       "      <td>Korea</td>\n",
       "      <td>Seoul</td>\n",
       "      <td>Mapo-gu</td>\n",
       "      <td>NaN</td>\n",
       "      <td>overseas inflow</td>\n",
       "      <td>1.0</td>\n",
       "      <td>NaN</td>\n",
       "      <td>9.0</td>\n",
       "      <td>2020-01-26</td>\n",
       "      <td>2020-01-30</td>\n",
       "      <td>2020-02-15</td>\n",
       "      <td>NaN</td>\n",
       "      <td>released</td>\n",
       "      <td>1.0</td>\n",
       "      <td>30.0</td>\n",
       "    </tr>\n",
       "    <tr>\n",
       "      <th>4</th>\n",
       "      <td>1000000005</td>\n",
       "      <td>9.0</td>\n",
       "      <td>female</td>\n",
       "      <td>1992.0</td>\n",
       "      <td>20s</td>\n",
       "      <td>Korea</td>\n",
       "      <td>Seoul</td>\n",
       "      <td>Seongbuk-gu</td>\n",
       "      <td>NaN</td>\n",
       "      <td>contact with patient</td>\n",
       "      <td>2.0</td>\n",
       "      <td>1.000000e+09</td>\n",
       "      <td>2.0</td>\n",
       "      <td>NaN</td>\n",
       "      <td>2020-01-31</td>\n",
       "      <td>2020-02-24</td>\n",
       "      <td>NaN</td>\n",
       "      <td>released</td>\n",
       "      <td>1.0</td>\n",
       "      <td>31.0</td>\n",
       "    </tr>\n",
       "  </tbody>\n",
       "</table>\n",
       "</div>"
      ],
      "text/plain": [
       "   patient_id  global_num     sex  birth_year  age country province  \\\n",
       "0  1000000001         2.0    male      1964.0  50s   Korea    Seoul   \n",
       "1  1000000002         5.0    male      1987.0  30s   Korea    Seoul   \n",
       "2  1000000003         6.0    male      1964.0  50s   Korea    Seoul   \n",
       "3  1000000004         7.0    male      1991.0  20s   Korea    Seoul   \n",
       "4  1000000005         9.0  female      1992.0  20s   Korea    Seoul   \n",
       "\n",
       "          city disease        infection_case  infection_order   infected_by  \\\n",
       "0   Gangseo-gu     NaN       overseas inflow              1.0           NaN   \n",
       "1  Jungnang-gu     NaN       overseas inflow              1.0           NaN   \n",
       "2    Jongno-gu     NaN  contact with patient              2.0  2.002000e+09   \n",
       "3      Mapo-gu     NaN       overseas inflow              1.0           NaN   \n",
       "4  Seongbuk-gu     NaN  contact with patient              2.0  1.000000e+09   \n",
       "\n",
       "   contact_number symptom_onset_date confirmed_date released_date  \\\n",
       "0            75.0         2020-01-22     2020-01-23    2020-02-05   \n",
       "1            31.0                NaN     2020-01-30    2020-03-02   \n",
       "2            17.0                NaN     2020-01-30    2020-02-19   \n",
       "3             9.0         2020-01-26     2020-01-30    2020-02-15   \n",
       "4             2.0                NaN     2020-01-31    2020-02-24   \n",
       "\n",
       "  deceased_date     state  month   day  \n",
       "0           NaN  released    1.0  23.0  \n",
       "1           NaN  released    1.0  30.0  \n",
       "2           NaN  released    1.0  30.0  \n",
       "3           NaN  released    1.0  30.0  \n",
       "4           NaN  released    1.0  31.0  "
      ]
     },
     "execution_count": 4,
     "metadata": {},
     "output_type": "execute_result"
    }
   ],
   "source": [
    "df_south_korea.head()"
   ]
  },
  {
   "cell_type": "code",
   "execution_count": 5,
   "metadata": {},
   "outputs": [],
   "source": [
    "# dropping unimportant columns\n",
    "\n",
    "df_south_korea.drop(['province','disease','patient_id','infected_by','infection_case','symptom_onset_date','deceased_date','released_date'], axis=1, inplace=True)"
   ]
  },
  {
   "cell_type": "markdown",
   "metadata": {},
   "source": [
    "## Handling missing values"
   ]
  },
  {
   "cell_type": "code",
   "execution_count": 6,
   "metadata": {},
   "outputs": [
    {
     "name": "stdout",
     "output_type": "stream",
     "text": [
      "global_num         1089\n",
      "sex                  66\n",
      "birth_year          437\n",
      "age                  74\n",
      "country               0\n",
      "city                 79\n",
      "infection_order    3295\n",
      "contact_number     2712\n",
      "confirmed_date        3\n",
      "state                 0\n",
      "month                 3\n",
      "day                   3\n",
      "dtype: int64\n"
     ]
    }
   ],
   "source": [
    "print(df_south_korea.isnull().sum())"
   ]
  },
  {
   "cell_type": "markdown",
   "metadata": {},
   "source": [
    "## 1. Age"
   ]
  },
  {
   "cell_type": "code",
   "execution_count": 7,
   "metadata": {},
   "outputs": [],
   "source": [
    "#creating a function to simulate population's age based on available data\n",
    "\n",
    "def simulate_age(ranges, percents, total_pop):\n",
    "    simulated_pop = np.array(0)\n",
    "    for (low, high), percent in zip(ranges, percents):\n",
    "        simulated_pop = np.append(simulated_pop, \n",
    "                  np.random.randint(low=low, high=high, size=int(total_pop*percent/100)))\n",
    "    return simulated_pop"
   ]
  },
  {
   "cell_type": "code",
   "execution_count": 8,
   "metadata": {},
   "outputs": [],
   "source": [
    "# data from the internet\n",
    "\n",
    "'''\n",
    "0-14 years: 13.03% \n",
    "15-24 years: 12.19%\n",
    "25-54 years: 45.13%\n",
    "55-64 years: 15.09% \n",
    "65 years and over: 14.55% \n",
    "'''\n",
    "ranges = [(0,14),(15,24),(25,54),(55,64),(65,90)]\n",
    "south_korea_population = 51418097\n",
    "percents = [13.03,12.19,45.13,15.09,14.55]\n",
    "south_korea_simulated_pop = simulate_age(ranges, percents, south_korea_population)"
   ]
  },
  {
   "cell_type": "code",
   "execution_count": 9,
   "metadata": {},
   "outputs": [],
   "source": [
    "actual_year = pd.to_datetime('today').year\n",
    "def calculate_age(x):\n",
    "    if math.isnan(x):\n",
    "        return x\n",
    "    else:\n",
    "        return int(actual_year - x)\n",
    "    \n",
    "#populations\n",
    "south_korea_population = 51418097\n",
    "    \n",
    "#France\n",
    "df_south_korea['age'] = df_south_korea['birth_year'].apply(calculate_age)\n",
    "\n",
    "df_south_korea.fillna({'age':int(random.choice(south_korea_simulated_pop))}, inplace=True)\n",
    "\n",
    "df_south_korea.drop(['birth_year'], axis=1, inplace=True)"
   ]
  },
  {
   "cell_type": "markdown",
   "metadata": {},
   "source": [
    "## 2. Sex"
   ]
  },
  {
   "cell_type": "code",
   "execution_count": 10,
   "metadata": {},
   "outputs": [],
   "source": [
    "'''\n",
    "Considering m as men and w as women. \n",
    "m/w=ratio -> m=ration*w\n",
    "m+w=total_pop\n",
    "'''\n",
    "def calculate_values(ratio, total_pop):\n",
    "    w = (south_korea_population/(1+ratio))/total_pop\n",
    "    m = 1 - w\n",
    "    return (w,m)"
   ]
  },
  {
   "cell_type": "code",
   "execution_count": 11,
   "metadata": {},
   "outputs": [],
   "source": [
    "# South Korea\n",
    "# total population: 1 male(s)/female (2018 est.)\n",
    "w,m = calculate_values(1, south_korea_population)\n",
    "\n",
    "df_south_korea['sex'] = df_south_korea['sex'].str.lower()\n",
    "\n",
    "df_south_korea['sex'].replace({\"male\\xa0?\": \"male\"}, inplace=True)\n",
    "\n",
    "df_south_korea.fillna({'sex': np.random.choice(['female','male'],p=[w,m])}, inplace=True)"
   ]
  },
  {
   "cell_type": "code",
   "execution_count": 12,
   "metadata": {},
   "outputs": [],
   "source": [
    "df_south_korea.fillna({'infection_reason':'Unknown','group':'Unknown',\n",
    "                       'infection_order':0, 'contact_number':0, 'state':'Unknown'} , inplace=True)"
   ]
  },
  {
   "cell_type": "code",
   "execution_count": 13,
   "metadata": {},
   "outputs": [
    {
     "name": "stdout",
     "output_type": "stream",
     "text": [
      "global_num         1089\n",
      "sex                   0\n",
      "age                   0\n",
      "country               0\n",
      "city                 79\n",
      "infection_order       0\n",
      "contact_number        0\n",
      "confirmed_date        3\n",
      "state                 0\n",
      "month                 3\n",
      "day                   3\n",
      "dtype: int64\n",
      "global_num         0\n",
      "sex                0\n",
      "age                0\n",
      "country            0\n",
      "city               0\n",
      "infection_order    0\n",
      "contact_number     0\n",
      "confirmed_date     0\n",
      "state              0\n",
      "month              0\n",
      "day                0\n",
      "dtype: int64\n"
     ]
    }
   ],
   "source": [
    "#checking again\n",
    "print(df_south_korea.isnull().sum())\n",
    "df=df_south_korea.dropna()\n",
    "print(df.isnull().sum())"
   ]
  },
  {
   "cell_type": "markdown",
   "metadata": {},
   "source": [
    "## Label Encoding Sex attribute"
   ]
  },
  {
   "cell_type": "code",
   "execution_count": 14,
   "metadata": {},
   "outputs": [
    {
     "name": "stderr",
     "output_type": "stream",
     "text": [
      "C:\\Users\\admin\\Anaconda3\\lib\\site-packages\\ipykernel_launcher.py:2: SettingWithCopyWarning: \n",
      "A value is trying to be set on a copy of a slice from a DataFrame.\n",
      "Try using .loc[row_indexer,col_indexer] = value instead\n",
      "\n",
      "See the caveats in the documentation: https://pandas.pydata.org/pandas-docs/stable/user_guide/indexing.html#returning-a-view-versus-a-copy\n",
      "  \n"
     ]
    },
    {
     "data": {
      "text/html": [
       "<div>\n",
       "<style scoped>\n",
       "    .dataframe tbody tr th:only-of-type {\n",
       "        vertical-align: middle;\n",
       "    }\n",
       "\n",
       "    .dataframe tbody tr th {\n",
       "        vertical-align: top;\n",
       "    }\n",
       "\n",
       "    .dataframe thead th {\n",
       "        text-align: right;\n",
       "    }\n",
       "</style>\n",
       "<table border=\"1\" class=\"dataframe\">\n",
       "  <thead>\n",
       "    <tr style=\"text-align: right;\">\n",
       "      <th></th>\n",
       "      <th>global_num</th>\n",
       "      <th>sex</th>\n",
       "      <th>age</th>\n",
       "      <th>country</th>\n",
       "      <th>city</th>\n",
       "      <th>infection_order</th>\n",
       "      <th>contact_number</th>\n",
       "      <th>confirmed_date</th>\n",
       "      <th>state</th>\n",
       "      <th>month</th>\n",
       "      <th>day</th>\n",
       "    </tr>\n",
       "  </thead>\n",
       "  <tbody>\n",
       "    <tr>\n",
       "      <th>0</th>\n",
       "      <td>2.0</td>\n",
       "      <td>1</td>\n",
       "      <td>56.0</td>\n",
       "      <td>Korea</td>\n",
       "      <td>Gangseo-gu</td>\n",
       "      <td>1.0</td>\n",
       "      <td>75.0</td>\n",
       "      <td>2020-01-23</td>\n",
       "      <td>released</td>\n",
       "      <td>1.0</td>\n",
       "      <td>23.0</td>\n",
       "    </tr>\n",
       "    <tr>\n",
       "      <th>1</th>\n",
       "      <td>5.0</td>\n",
       "      <td>1</td>\n",
       "      <td>33.0</td>\n",
       "      <td>Korea</td>\n",
       "      <td>Jungnang-gu</td>\n",
       "      <td>1.0</td>\n",
       "      <td>31.0</td>\n",
       "      <td>2020-01-30</td>\n",
       "      <td>released</td>\n",
       "      <td>1.0</td>\n",
       "      <td>30.0</td>\n",
       "    </tr>\n",
       "    <tr>\n",
       "      <th>2</th>\n",
       "      <td>6.0</td>\n",
       "      <td>1</td>\n",
       "      <td>56.0</td>\n",
       "      <td>Korea</td>\n",
       "      <td>Jongno-gu</td>\n",
       "      <td>2.0</td>\n",
       "      <td>17.0</td>\n",
       "      <td>2020-01-30</td>\n",
       "      <td>released</td>\n",
       "      <td>1.0</td>\n",
       "      <td>30.0</td>\n",
       "    </tr>\n",
       "    <tr>\n",
       "      <th>3</th>\n",
       "      <td>7.0</td>\n",
       "      <td>1</td>\n",
       "      <td>29.0</td>\n",
       "      <td>Korea</td>\n",
       "      <td>Mapo-gu</td>\n",
       "      <td>1.0</td>\n",
       "      <td>9.0</td>\n",
       "      <td>2020-01-30</td>\n",
       "      <td>released</td>\n",
       "      <td>1.0</td>\n",
       "      <td>30.0</td>\n",
       "    </tr>\n",
       "    <tr>\n",
       "      <th>4</th>\n",
       "      <td>9.0</td>\n",
       "      <td>0</td>\n",
       "      <td>28.0</td>\n",
       "      <td>Korea</td>\n",
       "      <td>Seongbuk-gu</td>\n",
       "      <td>2.0</td>\n",
       "      <td>2.0</td>\n",
       "      <td>2020-01-31</td>\n",
       "      <td>released</td>\n",
       "      <td>1.0</td>\n",
       "      <td>31.0</td>\n",
       "    </tr>\n",
       "  </tbody>\n",
       "</table>\n",
       "</div>"
      ],
      "text/plain": [
       "   global_num  sex   age country         city  infection_order  \\\n",
       "0         2.0    1  56.0   Korea   Gangseo-gu              1.0   \n",
       "1         5.0    1  33.0   Korea  Jungnang-gu              1.0   \n",
       "2         6.0    1  56.0   Korea    Jongno-gu              2.0   \n",
       "3         7.0    1  29.0   Korea      Mapo-gu              1.0   \n",
       "4         9.0    0  28.0   Korea  Seongbuk-gu              2.0   \n",
       "\n",
       "   contact_number confirmed_date     state  month   day  \n",
       "0            75.0     2020-01-23  released    1.0  23.0  \n",
       "1            31.0     2020-01-30  released    1.0  30.0  \n",
       "2            17.0     2020-01-30  released    1.0  30.0  \n",
       "3             9.0     2020-01-30  released    1.0  30.0  \n",
       "4             2.0     2020-01-31  released    1.0  31.0  "
      ]
     },
     "execution_count": 14,
     "metadata": {},
     "output_type": "execute_result"
    }
   ],
   "source": [
    "le=LabelEncoder()\n",
    "df['sex']=le.fit_transform(df['sex'])\n",
    "df.head()\n",
    "#Male=1, Female=0"
   ]
  },
  {
   "cell_type": "code",
   "execution_count": 15,
   "metadata": {},
   "outputs": [],
   "source": [
    "pca_df = df[['sex', 'age', 'infection_order']].copy()"
   ]
  },
  {
   "cell_type": "markdown",
   "metadata": {},
   "source": [
    "# KMeans Clustering "
   ]
  },
  {
   "cell_type": "code",
   "execution_count": 16,
   "metadata": {},
   "outputs": [
    {
     "data": {
      "image/png": "[encoded data removed]",
      "text/plain": [
       "<Figure size 432x288 with 1 Axes>"
      ]
     },
     "metadata": {
      "needs_background": "light"
     },
     "output_type": "display_data"
    },
    {
     "name": "stdout",
     "output_type": "stream",
     "text": [
      "The optimal number of clusters is 3\n"
     ]
    }
   ],
   "source": [
    "# Using the elbow test to check optimal number of components\n",
    "\n",
    "def elbow_test(df, n_init, max_clusters, max_iter):\n",
    "    distortions = []\n",
    "    for i in range(1, max_clusters):\n",
    "        km = KMeans(\n",
    "            n_clusters=i, init='random',\n",
    "            n_init=n_init, max_iter=max_iter,\n",
    "            tol=1e-04, random_state=20\n",
    "        )\n",
    "        km.fit(df)\n",
    "        distortions.append(km.inertia_)\n",
    "    plt.plot(range(1, max_clusters), distortions, marker='o')\n",
    "    plt.xlabel('Number of clusters')\n",
    "    plt.ylabel('Distortion')\n",
    "    plt.show()\n",
    "    \n",
    "    kn = KneeLocator(\n",
    "            range(1, max_clusters),\n",
    "            distortions,\n",
    "            curve='convex',\n",
    "            direction='decreasing',\n",
    "            interp_method='interp1d',\n",
    "    )\n",
    "    return kn.knee\n",
    "\n",
    "n_clusters = elbow_test(pca_df, 10, 20, 300)\n",
    "print(f'The optimal number of clusters is {n_clusters}')"
   ]
  },
  {
   "cell_type": "code",
   "execution_count": 17,
   "metadata": {},
   "outputs": [
    {
     "name": "stderr",
     "output_type": "stream",
     "text": [
      "C:\\Users\\admin\\Anaconda3\\lib\\site-packages\\ipykernel_launcher.py:12: SettingWithCopyWarning: \n",
      "A value is trying to be set on a copy of a slice from a DataFrame.\n",
      "Try using .loc[row_indexer,col_indexer] = value instead\n",
      "\n",
      "See the caveats in the documentation: https://pandas.pydata.org/pandas-docs/stable/user_guide/indexing.html#returning-a-view-versus-a-copy\n",
      "  if sys.path[0] == '':\n"
     ]
    }
   ],
   "source": [
    "# Running KMeans Algo\n",
    "\n",
    "km = KMeans(n_clusters=n_clusters, random_state=20)\n",
    "\n",
    "y = km.fit_predict(pca_df)\n",
    "idx = np.argsort(km.cluster_centers_.sum(axis=1))\n",
    "\n",
    "lut = np.zeros_like(idx)\n",
    "lut[idx] = np.arange(n_clusters)\n",
    "\n",
    "pca_df['cluster'] = lut[km.labels_]\n",
    "df['cluster'] = lut[km.labels_]"
   ]
  },
  {
   "cell_type": "code",
   "execution_count": 18,
   "metadata": {},
   "outputs": [],
   "source": [
    "#Saving data\n",
    "\n",
    "import pickle   \n",
    "pickle.dump(km, open('kmeans_model.sav', 'wb'))\n",
    "# Load\n",
    "km = pickle.load(open('kmeans_model.sav', 'rb'))"
   ]
  },
  {
   "cell_type": "code",
   "execution_count": 19,
   "metadata": {},
   "outputs": [],
   "source": [
    "def draw_scatter(df, col_1, col_2, cluster_column, num_clusters, title):\n",
    "    fig = plt.figure(figsize=(10,10))\n",
    "    ax = fig.add_subplot(111)\n",
    "    ax.set_title(title)\n",
    "    ax.set_xlabel(col_1)\n",
    "    ax.set_ylabel(col_2)\n",
    "    labels = list(range(0,num_clusters))\n",
    "    colors = plt.cm.Spectral(np.linspace(0, 1, num_clusters))\n",
    "    axs = []\n",
    "    for i in labels:\n",
    "        axs.append(ax.scatter(df[df[cluster_column]==i][col_1], df[df[cluster_column]==i][col_2], cmap=colors[i]))\n",
    "        ax.legend(axs, labels, loc='center', bbox_to_anchor=(0.92, 0.84), ncol=1)\n",
    "    plt.show()"
   ]
  },
  {
   "cell_type": "code",
   "execution_count": 20,
   "metadata": {},
   "outputs": [
    {
     "data": {
      "text/plain": [
       "<Figure size 1440x720 with 0 Axes>"
      ]
     },
     "metadata": {},
     "output_type": "display_data"
    },
    {
     "data": {
      "image/png": "[encoded data removed]",
      "text/plain": [
       "<Figure size 432x288 with 1 Axes>"
      ]
     },
     "metadata": {
      "needs_background": "light"
     },
     "output_type": "display_data"
    }
   ],
   "source": [
    "# function for 3d\n",
    "\n",
    "def create_3d_scatter(df, col_1, col_2, col_3, cluster_column, num_clusters, title):\n",
    "    fig = plt.figure()\n",
    "    ax = fig.add_subplot(111, projection='3d')\n",
    "    ax.set_title(title)\n",
    "    ax.set_xlabel(col_1)\n",
    "    ax.set_ylabel(col_2)\n",
    "    ax.set_zlabel(col_3, rotation=90)\n",
    "    labels = list(range(0,num_clusters))\n",
    "    colors = plt.cm.Spectral(np.linspace(0, 1, num_clusters))\n",
    "    axs = []\n",
    "    for i in labels:\n",
    "        d = df[df[cluster_column]==i]\n",
    "        axs.append(ax.scatter(d[col_1], d[col_2], d[col_3], cmap=colors[i]))\n",
    "    ax.legend(axs, labels, bbox_to_anchor=(0.2, 0.5), ncol=1)\n",
    "    ax.set_xticklabels([])\n",
    "    ax.set_yticklabels([])\n",
    "    ax.set_zticklabels([])\n",
    "    plt.show()\n",
    "    \n",
    "plt.figure(figsize=[20,10])    \n",
    "create_3d_scatter(pca_df, 'age', 'sex', 'infection_order', 'cluster', n_clusters, '')"
   ]
  },
  {
   "cell_type": "code",
   "execution_count": 21,
   "metadata": {},
   "outputs": [
    {
     "data": {
      "image/png": "[encoded data removed]",
      "text/plain": [
       "<Figure size 720x720 with 1 Axes>"
      ]
     },
     "metadata": {
      "needs_background": "light"
     },
     "output_type": "display_data"
    }
   ],
   "source": [
    "# Checking importance\n",
    "draw_scatter(pca_df, 'age', 'sex', 'cluster', n_clusters, 'Clusters - PC1/PC2')"
   ]
  },
  {
   "cell_type": "code",
   "execution_count": 22,
   "metadata": {},
   "outputs": [
    {
     "data": {
      "image/png": "[encoded data removed]",
      "text/plain": [
       "<Figure size 720x720 with 1 Axes>"
      ]
     },
     "metadata": {
      "needs_background": "light"
     },
     "output_type": "display_data"
    }
   ],
   "source": [
    "draw_scatter(pca_df, 'infection_order', 'age', 'cluster', n_clusters, 'Clusters - PC1/PC3')"
   ]
  },
  {
   "cell_type": "code",
   "execution_count": 23,
   "metadata": {},
   "outputs": [
    {
     "data": {
      "image/png": "[encoded data removed]",
      "text/plain": [
       "<Figure size 720x720 with 1 Axes>"
      ]
     },
     "metadata": {
      "needs_background": "light"
     },
     "output_type": "display_data"
    }
   ],
   "source": [
    "draw_scatter(pca_df, 'sex', 'infection_order', 'cluster', n_clusters, 'Clusters - PC2/PC3')"
   ]
  },
  {
   "cell_type": "markdown",
   "metadata": {},
   "source": [
    "# Conclusions"
   ]
  },
  {
   "cell_type": "markdown",
   "metadata": {},
   "source": [
    "The clusters found by K-means show that the cases are grouped by certain characteristics among the patients. \n",
    "These characteristics are focused on the variables of sex, infection order, and age.\n",
    "Depending on the value of those variables the data points are distributed among the clusters."
   ]
  },
  {
   "cell_type": "markdown",
   "metadata": {},
   "source": [
    "Cluster 1 :Kids (girls & boys) with low to medium infection severity\n",
    "\n",
    "Cluster 2 :Middle aged men & women with low to high infection severity.\n",
    "\n",
    "Cluster 3 :Senior citizens with medium to high infection severity."
   ]
  }
 ],
 "metadata": {
  "kernelspec": {
   "display_name": "Python 3",
   "language": "python",
   "name": "python3"
  },
  "language_info": {
   "codemirror_mode": {
    "name": "ipython",
    "version": 3
   },
   "file_extension": ".py",
   "mimetype": "text/x-python",
   "name": "python",
   "nbconvert_exporter": "python",
   "pygments_lexer": "ipython3",
   "version": "3.6.5"
  }
 },
 "nbformat": 4,
 "nbformat_minor": 2
}
